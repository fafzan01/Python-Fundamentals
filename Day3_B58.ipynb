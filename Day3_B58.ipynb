{
 "cells": [
  {
   "cell_type": "code",
   "execution_count": null,
   "id": "9e28eaad",
   "metadata": {},
   "outputs": [],
   "source": [
    "Continuation with strings :"
   ]
  },
  {
   "cell_type": "code",
   "execution_count": 3,
   "id": "a49671dd",
   "metadata": {},
   "outputs": [
    {
     "name": "stdout",
     "output_type": "stream",
     "text": [
      "farhat aFzan\n"
     ]
    }
   ],
   "source": [
    "Full_name='farhat aFzan'\n",
    "print(Full_name)"
   ]
  },
  {
   "cell_type": "code",
   "execution_count": 4,
   "id": "144d4437",
   "metadata": {},
   "outputs": [
    {
     "name": "stdout",
     "output_type": "stream",
     "text": [
      "Farhat Afzan\n"
     ]
    }
   ],
   "source": [
    "print(Full_name.title())"
   ]
  },
  {
   "cell_type": "code",
   "execution_count": 5,
   "id": "ced4a59a",
   "metadata": {},
   "outputs": [
    {
     "name": "stdout",
     "output_type": "stream",
     "text": [
      "FARHAT AFZAN\n"
     ]
    }
   ],
   "source": [
    "#full name in capital letter.\n",
    "print(Full_name.upper())"
   ]
  },
  {
   "cell_type": "code",
   "execution_count": 6,
   "id": "498977b0",
   "metadata": {},
   "outputs": [
    {
     "name": "stdout",
     "output_type": "stream",
     "text": [
      "farhat afzan\n"
     ]
    }
   ],
   "source": [
    "#full name in smallcase letter.\n",
    "print(Full_name.lower())"
   ]
  },
  {
   "cell_type": "code",
   "execution_count": null,
   "id": "77888c9c",
   "metadata": {},
   "outputs": [],
   "source": []
  },
  {
   "cell_type": "code",
   "execution_count": null,
   "id": "67ce69d2",
   "metadata": {},
   "outputs": [],
   "source": [
    "Introduction to f strings."
   ]
  },
  {
   "cell_type": "code",
   "execution_count": null,
   "id": "c4abb2a8",
   "metadata": {},
   "outputs": [],
   "source": [
    "#general syntax of an f string..."
   ]
  },
  {
   "cell_type": "code",
   "execution_count": 7,
   "id": "12542b44",
   "metadata": {},
   "outputs": [],
   "source": [
    "first_name='farhat'\n",
    "last_name='aFzan'"
   ]
  },
  {
   "cell_type": "code",
   "execution_count": 8,
   "id": "1b4cb75b",
   "metadata": {},
   "outputs": [
    {
     "name": "stdout",
     "output_type": "stream",
     "text": [
      "farhat aFzan\n"
     ]
    }
   ],
   "source": [
    "FullName=f\"{first_name} {last_name}\"\n",
    "print(FullName)"
   ]
  },
  {
   "cell_type": "code",
   "execution_count": 9,
   "id": "32fc2511",
   "metadata": {},
   "outputs": [
    {
     "name": "stdout",
     "output_type": "stream",
     "text": [
      "Hi!, Good Morning, it's time to wake up farhat aFzan\n"
     ]
    }
   ],
   "source": [
    "msg=f\"Hi!, Good Morning, it's time to wake up {FullName}\"\n",
    "print(msg)"
   ]
  },
  {
   "cell_type": "code",
   "execution_count": 11,
   "id": "61d45513",
   "metadata": {},
   "outputs": [
    {
     "name": "stdout",
     "output_type": "stream",
     "text": [
      "Hi!, Good Morning, it's time to wake up Farhat Afzan\n"
     ]
    }
   ],
   "source": [
    "message=f\"Hi!, Good Morning, it's time to wake up {FullName.title()}\"\n",
    "print(message)"
   ]
  },
  {
   "cell_type": "code",
   "execution_count": null,
   "id": "7812bfe2",
   "metadata": {},
   "outputs": [],
   "source": []
  },
  {
   "cell_type": "code",
   "execution_count": null,
   "id": "375dfbfb",
   "metadata": {},
   "outputs": [],
   "source": [
    "Adding whitespace to string :"
   ]
  },
  {
   "cell_type": "code",
   "execution_count": 12,
   "id": "59f88fa2",
   "metadata": {},
   "outputs": [
    {
     "name": "stdout",
     "output_type": "stream",
     "text": [
      "favourite language: pythoncjavasqlc++htmljavascript\n"
     ]
    }
   ],
   "source": [
    "print(\"favourite language: pythoncjavasqlc++htmljavascript\")"
   ]
  },
  {
   "cell_type": "code",
   "execution_count": 14,
   "id": "fc46f512",
   "metadata": {},
   "outputs": [
    {
     "name": "stdout",
     "output_type": "stream",
     "text": [
      "favourite language: \n",
      "python\n",
      "c\n",
      "sql\n",
      "c++\n",
      "html\n",
      "javascript\n"
     ]
    }
   ],
   "source": [
    "print(\"favourite language: \\npython\\nc\\nsql\\nc++\\nhtml\\njavascript\")"
   ]
  },
  {
   "cell_type": "code",
   "execution_count": 15,
   "id": "f66c569e",
   "metadata": {},
   "outputs": [
    {
     "name": "stdout",
     "output_type": "stream",
     "text": [
      "favourite language: \n",
      "\tpython\n",
      "\tc\n",
      "\tsql\n",
      "\tc++\n",
      "\thtml\n",
      "\tjavascript\n"
     ]
    }
   ],
   "source": [
    "print(\"favourite language: \\n\\tpython\\n\\tc\\n\\tsql\\n\\tc++\\n\\thtml\\n\\tjavascript\")"
   ]
  },
  {
   "cell_type": "code",
   "execution_count": null,
   "id": "e05cdedc",
   "metadata": {},
   "outputs": [],
   "source": [
    "Removing whitespace from string :"
   ]
  },
  {
   "cell_type": "code",
   "execution_count": 16,
   "id": "de5b8aec",
   "metadata": {},
   "outputs": [
    {
     "name": "stdout",
     "output_type": "stream",
     "text": [
      "python\n"
     ]
    }
   ],
   "source": [
    "name=\"python\"\n",
    "print(name)"
   ]
  },
  {
   "cell_type": "code",
   "execution_count": 17,
   "id": "428c2355",
   "metadata": {},
   "outputs": [
    {
     "name": "stdout",
     "output_type": "stream",
     "text": [
      "     sql\n"
     ]
    }
   ],
   "source": [
    "name1=\"     sql\"\n",
    "print(name1)"
   ]
  },
  {
   "cell_type": "code",
   "execution_count": 24,
   "id": "f4fd0e1e",
   "metadata": {},
   "outputs": [
    {
     "name": "stdout",
     "output_type": "stream",
     "text": [
      "java       \n"
     ]
    }
   ],
   "source": [
    "name2=\"java       \"\n",
    "print(name2)"
   ]
  },
  {
   "cell_type": "code",
   "execution_count": 20,
   "id": "db5891e0",
   "metadata": {},
   "outputs": [
    {
     "data": {
      "text/plain": [
       "'sql'"
      ]
     },
     "execution_count": 20,
     "metadata": {},
     "output_type": "execute_result"
    }
   ],
   "source": [
    "name1.lstrip()"
   ]
  },
  {
   "cell_type": "code",
   "execution_count": 25,
   "id": "7a6d57fe",
   "metadata": {},
   "outputs": [
    {
     "data": {
      "text/plain": [
       "'java'"
      ]
     },
     "execution_count": 25,
     "metadata": {},
     "output_type": "execute_result"
    }
   ],
   "source": [
    "name2.rstrip()"
   ]
  },
  {
   "cell_type": "code",
   "execution_count": null,
   "id": "adeac7e3",
   "metadata": {},
   "outputs": [],
   "source": []
  }
 ],
 "metadata": {
  "kernelspec": {
   "display_name": "Python 3 (ipykernel)",
   "language": "python",
   "name": "python3"
  },
  "language_info": {
   "codemirror_mode": {
    "name": "ipython",
    "version": 3
   },
   "file_extension": ".py",
   "mimetype": "text/x-python",
   "name": "python",
   "nbconvert_exporter": "python",
   "pygments_lexer": "ipython3",
   "version": "3.9.7"
  }
 },
 "nbformat": 4,
 "nbformat_minor": 5
}
